{
  "nbformat": 4,
  "nbformat_minor": 0,
  "metadata": {
    "colab": {
      "provenance": [],
      "authorship_tag": "ABX9TyPTtxJPGc5UWDNsT5Xs0/n+",
      "include_colab_link": true
    },
    "kernelspec": {
      "name": "python3",
      "display_name": "Python 3"
    },
    "language_info": {
      "name": "python"
    }
  },
  "cells": [
    {
      "cell_type": "markdown",
      "metadata": {
        "id": "view-in-github",
        "colab_type": "text"
      },
      "source": [
        "<a href=\"https://colab.research.google.com/github/shuvamg007/learning/blob/main/GAN.ipynb\" target=\"_parent\"><img src=\"https://colab.research.google.com/assets/colab-badge.svg\" alt=\"Open In Colab\"/></a>"
      ]
    },
    {
      "cell_type": "code",
      "execution_count": null,
      "metadata": {
        "id": "tuaztCTzu1RR"
      },
      "outputs": [],
      "source": [
        "from keras.layers import Dense, Normalization, Conv2DTranspose, LeakyReLU, BatchNormalization, Input\n",
        "from keras.models import Sequential\n",
        "import keras\n",
        "import numpy as np\n",
        "import tensorflow as tf\n",
        "import tensorflow_datasets as tfds\n",
        "from matplotlib import pyplot as plt\n",
        "\n",
        "tf.random.set_seed(42)"
      ]
    },
    {
      "cell_type": "code",
      "source": [
        "devices = tf.config.list_physical_devices('GPU')\n",
        "device_name = None\n",
        "\n",
        "for device in devices:\n",
        "    print(f'Found GPU at: {device.name}')\n",
        "    tf.config.experimental.set_memory_growth(device, enable=True)"
      ],
      "metadata": {
        "id": "M8dwy2lSvEYi"
      },
      "execution_count": null,
      "outputs": []
    },
    {
      "cell_type": "code",
      "source": [
        "ds = tfds.load('fashion_mnist', split='train')"
      ],
      "metadata": {
        "id": "iI6cRgrBvGWY"
      },
      "execution_count": null,
      "outputs": []
    },
    {
      "cell_type": "code",
      "source": [
        "iter = ds.as_numpy_iterator()"
      ],
      "metadata": {
        "id": "3pxnOxTY5GZM"
      },
      "execution_count": null,
      "outputs": []
    },
    {
      "cell_type": "code",
      "source": [
        " # visualize\n",
        "fig, ax = plt.subplots(1, 4, figsize=(20, 4))\n",
        "\n",
        "for i in range(4):\n",
        "    ax[i].imshow(np.squeeze(iter.next()['image']))\n",
        "\n",
        "plt.show()\n",
        "None"
      ],
      "metadata": {
        "colab": {
          "base_uri": "https://localhost:8080/",
          "height": 295
        },
        "id": "_3iNlyuZ-2OJ",
        "outputId": "36c37ccf-89c3-4614-b000-fe6f2c46bee0"
      },
      "execution_count": null,
      "outputs": [
        {
          "output_type": "display_data",
          "data": {
            "text/plain": [
              "<Figure size 2000x400 with 4 Axes>"
            ],
            "image/png": "[encoded data removed]"
          },
          "metadata": {}
        }
      ]
    },
    {
      "cell_type": "code",
      "source": [
        "# scale input\n",
        "def scale(data):\n",
        "    return data['image'] / 255"
      ],
      "metadata": {
        "id": "SJVowVErX2NT"
      },
      "execution_count": null,
      "outputs": []
    },
    {
      "cell_type": "code",
      "source": [
        "# pre-processing data\n",
        "ds = tfds.load('fashion_mnist', split='train')\n",
        "ds = ds.map(scale)\n",
        "ds = ds.cache()\n",
        "ds = ds.shuffle(20000)\n",
        "ds = ds.batch(128)\n",
        "ds = ds.prefetch(64)"
      ],
      "metadata": {
        "id": "zmqNqNAZX8yq"
      },
      "execution_count": null,
      "outputs": []
    },
    {
      "cell_type": "code",
      "source": [
        "# define network\n",
        "from keras.layers import Conv2D, BatchNormalization, LeakyReLU, Dense, Dropout, UpSampling2D, Flatten, Reshape\n",
        "from keras.models import Sequential "
      ],
      "metadata": {
        "id": "2MJ080OYb3VJ"
      },
      "execution_count": null,
      "outputs": []
    },
    {
      "cell_type": "code",
      "source": [
        "def generator():\n",
        "    model = Sequential()\n",
        "\n",
        "    # block 1 (with random values)\n",
        "    model.add(Dense(7 * 7 * 128, input_dim=128))\n",
        "    model.add(LeakyReLU(0.2))\n",
        "    model.add(Reshape((7, 7, 128)))\n",
        "\n",
        "    # upsampling block 1\n",
        "    model.add(UpSampling2D()) # by default 2x2\n",
        "    model.add(Conv2D(128, 5, padding='same'))\n",
        "    model.add(LeakyReLU(0.2))\n",
        "\n",
        "    # upsampling block 2\n",
        "    model.add(UpSampling2D()) # by default 2x2\n",
        "    model.add(Conv2D(128, 5, padding='same'))\n",
        "    model.add(LeakyReLU(0.2))\n",
        "\n",
        "    # conv block 1\n",
        "    model.add(Conv2D(128, 4, padding='same'))\n",
        "    model.add(LeakyReLU(0.2))\n",
        "\n",
        "    # conv block 2\n",
        "    model.add(Conv2D(128, 4, padding='same'))\n",
        "    model.add(LeakyReLU(0.2))\n",
        "\n",
        "    model.add(Conv2D(1, 4, padding='same', activation='tanh'))\n",
        "\n",
        "    return model"
      ],
      "metadata": {
        "id": "DVYvzbCUcVSp"
      },
      "execution_count": null,
      "outputs": []
    },
    {
      "cell_type": "code",
      "source": [
        "g = generator()"
      ],
      "metadata": {
        "id": "RTvDRuIaevT8"
      },
      "execution_count": null,
      "outputs": []
    },
    {
      "cell_type": "code",
      "source": [
        "g.summary()"
      ],
      "metadata": {
        "colab": {
          "base_uri": "https://localhost:8080/"
        },
        "id": "WOj7ZQEEe4ye",
        "outputId": "614ed0e5-0601-497b-94d5-524e43fe5c30"
      },
      "execution_count": null,
      "outputs": [
        {
          "output_type": "stream",
          "name": "stdout",
          "text": [
            "Model: \"sequential_2\"\n",
            "_________________________________________________________________\n",
            " Layer (type)                Output Shape              Param #   \n",
            "=================================================================\n",
            " dense_2 (Dense)             (None, 6272)              809088    \n",
            "                                                                 \n",
            " leaky_re_lu_9 (LeakyReLU)   (None, 6272)              0         \n",
            "                                                                 \n",
            " reshape_1 (Reshape)         (None, 7, 7, 128)         0         \n",
            "                                                                 \n",
            " up_sampling2d_2 (UpSampling  (None, 14, 14, 128)      0         \n",
            " 2D)                                                             \n",
            "                                                                 \n",
            " conv2d_9 (Conv2D)           (None, 14, 14, 128)       409728    \n",
            "                                                                 \n",
            " leaky_re_lu_10 (LeakyReLU)  (None, 14, 14, 128)       0         \n",
            "                                                                 \n",
            " up_sampling2d_3 (UpSampling  (None, 28, 28, 128)      0         \n",
            " 2D)                                                             \n",
            "                                                                 \n",
            " conv2d_10 (Conv2D)          (None, 28, 28, 128)       409728    \n",
            "                                                                 \n",
            " leaky_re_lu_11 (LeakyReLU)  (None, 28, 28, 128)       0         \n",
            "                                                                 \n",
            " conv2d_11 (Conv2D)          (None, 28, 28, 128)       262272    \n",
            "                                                                 \n",
            " leaky_re_lu_12 (LeakyReLU)  (None, 28, 28, 128)       0         \n",
            "                                                                 \n",
            " conv2d_12 (Conv2D)          (None, 28, 28, 128)       262272    \n",
            "                                                                 \n",
            " leaky_re_lu_13 (LeakyReLU)  (None, 28, 28, 128)       0         \n",
            "                                                                 \n",
            " conv2d_13 (Conv2D)          (None, 28, 28, 1)         2049      \n",
            "                                                                 \n",
            "=================================================================\n",
            "Total params: 2,155,137\n",
            "Trainable params: 2,155,137\n",
            "Non-trainable params: 0\n",
            "_________________________________________________________________\n"
          ]
        }
      ]
    },
    {
      "cell_type": "code",
      "source": [
        "imgs = g.predict(np.random.randn(4, 128, 1))\n",
        "\n",
        "fig, ax = plt.subplots(1, 4, figsize=(20, 4))\n",
        "\n",
        "for i, img in enumerate(imgs):\n",
        "    ax[i].imshow(np.squeeze(img))\n",
        "\n",
        "plt.show()\n",
        "None"
      ],
      "metadata": {
        "colab": {
          "base_uri": "https://localhost:8080/",
          "height": 313
        },
        "id": "frPVgbRapZr1",
        "outputId": "c4a7462c-7488-4089-db78-98bb4e44602b"
      },
      "execution_count": null,
      "outputs": [
        {
          "output_type": "stream",
          "name": "stdout",
          "text": [
            "1/1 [==============================] - 0s 162ms/step\n"
          ]
        },
        {
          "output_type": "display_data",
          "data": {
            "text/plain": [
              "<Figure size 2000x400 with 4 Axes>"
            ],
            "image/png": "[encoded data removed]"
          },
          "metadata": {}
        }
      ]
    },
    {
      "cell_type": "code",
      "source": [
        "def discriminator():\n",
        "    model = Sequential()\n",
        "\n",
        "    model.add(Conv2D(32, 5, input_shape=(28, 28, 1)))\n",
        "    model.add(LeakyReLU(0.2))\n",
        "    model.add(Dropout(0.5))\n",
        "\n",
        "    model.add(Conv2D(64, 5))\n",
        "    model.add(LeakyReLU(0.2))\n",
        "    model.add(Dropout(0.5))\n",
        "\n",
        "    model.add(Conv2D(128, 5))\n",
        "    model.add(LeakyReLU(0.2))\n",
        "    model.add(Dropout(0.5))\n",
        "\n",
        "    model.add(Conv2D(256, 5))\n",
        "    model.add(LeakyReLU(0.2))\n",
        "    model.add(Dropout(0.5))\n",
        "\n",
        "    model.add(Flatten())\n",
        "    model.add(Dropout(0.5))\n",
        "    model.add(Dense(1, activation='sigmoid'))\n",
        "\n",
        "    return model"
      ],
      "metadata": {
        "id": "BXCl0K4gpi4U"
      },
      "execution_count": null,
      "outputs": []
    },
    {
      "cell_type": "code",
      "source": [
        "d = discriminator()"
      ],
      "metadata": {
        "id": "s6DTaQvrsQMH"
      },
      "execution_count": null,
      "outputs": []
    },
    {
      "cell_type": "code",
      "source": [
        "d.summary()"
      ],
      "metadata": {
        "colab": {
          "base_uri": "https://localhost:8080/"
        },
        "id": "BXSjFdhpsj1b",
        "outputId": "5de18f8f-08a7-43b8-db61-f6c808cd297d"
      },
      "execution_count": null,
      "outputs": [
        {
          "output_type": "stream",
          "name": "stdout",
          "text": [
            "Model: \"sequential_3\"\n",
            "_________________________________________________________________\n",
            " Layer (type)                Output Shape              Param #   \n",
            "=================================================================\n",
            " conv2d_14 (Conv2D)          (None, 24, 24, 32)        832       \n",
            "                                                                 \n",
            " leaky_re_lu_14 (LeakyReLU)  (None, 24, 24, 32)        0         \n",
            "                                                                 \n",
            " dropout_5 (Dropout)         (None, 24, 24, 32)        0         \n",
            "                                                                 \n",
            " conv2d_15 (Conv2D)          (None, 20, 20, 64)        51264     \n",
            "                                                                 \n",
            " leaky_re_lu_15 (LeakyReLU)  (None, 20, 20, 64)        0         \n",
            "                                                                 \n",
            " dropout_6 (Dropout)         (None, 20, 20, 64)        0         \n",
            "                                                                 \n",
            " conv2d_16 (Conv2D)          (None, 16, 16, 128)       204928    \n",
            "                                                                 \n",
            " leaky_re_lu_16 (LeakyReLU)  (None, 16, 16, 128)       0         \n",
            "                                                                 \n",
            " dropout_7 (Dropout)         (None, 16, 16, 128)       0         \n",
            "                                                                 \n",
            " conv2d_17 (Conv2D)          (None, 12, 12, 256)       819456    \n",
            "                                                                 \n",
            " leaky_re_lu_17 (LeakyReLU)  (None, 12, 12, 256)       0         \n",
            "                                                                 \n",
            " dropout_8 (Dropout)         (None, 12, 12, 256)       0         \n",
            "                                                                 \n",
            " flatten_1 (Flatten)         (None, 36864)             0         \n",
            "                                                                 \n",
            " dropout_9 (Dropout)         (None, 36864)             0         \n",
            "                                                                 \n",
            " dense_3 (Dense)             (None, 1)                 36865     \n",
            "                                                                 \n",
            "=================================================================\n",
            "Total params: 1,113,345\n",
            "Trainable params: 1,113,345\n",
            "Non-trainable params: 0\n",
            "_________________________________________________________________\n"
          ]
        }
      ]
    },
    {
      "cell_type": "code",
      "source": [
        "d.predict(np.expand_dims(imgs[0], 0))"
      ],
      "metadata": {
        "colab": {
          "base_uri": "https://localhost:8080/"
        },
        "id": "j2mveoczs47W",
        "outputId": "8ea846c4-8e6d-4141-8105-c95cd0782f13"
      },
      "execution_count": null,
      "outputs": [
        {
          "output_type": "stream",
          "name": "stdout",
          "text": [
            "1/1 [==============================] - 0s 82ms/step\n"
          ]
        },
        {
          "output_type": "execute_result",
          "data": {
            "text/plain": [
              "array([[0.5013865]], dtype=float32)"
            ]
          },
          "metadata": {},
          "execution_count": 35
        }
      ]
    },
    {
      "cell_type": "code",
      "source": [
        "# GAN training loop\n",
        "from keras.optimizers import Adam\n",
        "from keras.losses import BinaryCrossentropy"
      ],
      "metadata": {
        "id": "cw0e6p6Hucb_"
      },
      "execution_count": null,
      "outputs": []
    },
    {
      "cell_type": "code",
      "source": [
        "g_optim = Adam(0.0001)\n",
        "d_optim = Adam(0.00001)\n",
        "\n",
        "g_loss = BinaryCrossentropy()\n",
        "d_loss = BinaryCrossentropy()"
      ],
      "metadata": {
        "id": "unAwowK-_F1S"
      },
      "execution_count": null,
      "outputs": []
    },
    {
      "cell_type": "code",
      "source": [
        "from keras.models import Model"
      ],
      "metadata": {
        "id": "rmKulN76_0em"
      },
      "execution_count": null,
      "outputs": []
    },
    {
      "cell_type": "code",
      "source": [
        "class FashionGAN(Model):\n",
        "    def __init__(self, generator, discriminator, *args, **kwargs):\n",
        "        super().__init__(*args, **kwargs)\n",
        "        self.discriminator = discriminator\n",
        "        self.generator = generator\n",
        "\n",
        "    def compile(self, g_optim, d_optim, g_loss, d_loss, *args, **kwargs):\n",
        "        super().compile(*args, **kwargs)\n",
        "        self.g_optim = g_optim\n",
        "        self.d_optim = d_optim\n",
        "        self.g_loss = g_loss\n",
        "        self.d_loss = d_loss\n",
        "\n",
        "    def train_step(self, batch):\n",
        "        input = batch\n",
        "        fake = self.generator(tf.random.normal((128, 128, 1)), training=False)\n",
        "\n",
        "        with tf.GradientTape() as d_tape:\n",
        "            yhat_real = self.discriminator(input, training=True)\n",
        "            yhat_fake = self.discriminator(fake, training=True)\n",
        "\n",
        "            yhat_fakereal = tf.concat([yhat_real, yhat_fake], axis=0)\n",
        "            y_fakereal = tf.concat([tf.zeros_like(yhat_real), tf.ones_like(yhat_fake)], axis=0)\n",
        "\n",
        "            noise_fake = -0.15 * tf.random.uniform(tf.shape(yhat_fake))\n",
        "            noise_real = 0.15 * tf.random.uniform(tf.shape(yhat_real))\n",
        "\n",
        "            y_fakereal += tf.concat([noise_real, noise_fake], axis=0)\n",
        "\n",
        "            total_dloss = self.d_loss(y_fakereal, yhat_fakereal)\n",
        "\n",
        "        d_grad = d_tape.gradient(total_dloss, self.discriminator.trainable_variables)\n",
        "        self.d_optim.apply_gradients(zip(d_grad, self.discriminator.trainable_variables))\n",
        "\n",
        "        with tf.GradientTape() as g_tape:\n",
        "            fakes = self.generator(tf.random.normal((128, 128, 1)), training=True)\n",
        "            y_hat = self.discriminator(fakes, training=False)\n",
        "\n",
        "            total_gloss = self.g_loss(tf.zeros_like(y_hat), y_hat)\n",
        "\n",
        "        g_grad = g_tape.gradient(total_gloss, self.generator.trainable_variables)\n",
        "        self.g_optim.apply_gradients(zip(g_grad, self.generator.trainable_variables))\n",
        "\n",
        "        return {'g_loss': total_gloss, 'd_loss': total_dloss}\n"
      ],
      "metadata": {
        "id": "IgUYMZFgTa10"
      },
      "execution_count": null,
      "outputs": []
    },
    {
      "cell_type": "code",
      "source": [
        "fashion_gan = FashionGAN(g, d)\n",
        "fashion_gan.compile(g_optim, d_optim, g_loss, d_loss)"
      ],
      "metadata": {
        "id": "xbQPCa2cecGm"
      },
      "execution_count": null,
      "outputs": []
    },
    {
      "cell_type": "code",
      "source": [
        "hist = fashion_gan.fit(ds, epochs=20)"
      ],
      "metadata": {
        "colab": {
          "base_uri": "https://localhost:8080/"
        },
        "id": "NtPv0H2ZfPau",
        "outputId": "f146c830-c8f0-406b-9d0c-0f3d9616c67e"
      },
      "execution_count": null,
      "outputs": [
        {
          "output_type": "stream",
          "name": "stdout",
          "text": [
            "Epoch 1/20\n",
            " 85/469 [====>.........................] - ETA: 2:08:18 - g_loss: 0.8185 - d_loss: 0.6812"
          ]
        }
      ]
    },
    {
      "cell_type": "code",
      "source": [],
      "metadata": {
        "id": "pRw1oQm1flTZ"
      },
      "execution_count": null,
      "outputs": []
    }
  ]
}